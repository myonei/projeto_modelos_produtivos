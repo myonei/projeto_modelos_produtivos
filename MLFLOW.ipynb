{
 "cells": [
  {
   "cell_type": "markdown",
   "metadata": {},
   "source": [
    "# MLFLOW"
   ]
  },
  {
   "cell_type": "markdown",
   "metadata": {},
   "source": [
    "mlflow server --backend-store-uri sqlite:///mlrunsdb.db --default-artifact-root ./mlflowruns --host 0.0.0.0 --port 5000"
   ]
  },
  {
   "cell_type": "code",
   "execution_count": 12,
   "metadata": {
    "ExecuteTime": {
     "end_time": "2022-11-13T14:42:55.739865Z",
     "start_time": "2022-11-13T14:42:55.729866Z"
    }
   },
   "outputs": [],
   "source": [
    "import mlflow\n",
    "\n",
    "from sklearn.metrics import (accuracy_score, precision_score, recall_score, f1_score)\n",
    "\n",
    "import pandas as pd\n",
    "import matplotlib.pyplot as plt\n",
    "import seaborn as sns\n",
    "from sklearn.model_selection import train_test_split\n",
    "from sklearn.preprocessing import StandardScaler\n",
    "from sklearn.ensemble import RandomForestClassifier\n",
    "from sklearn.linear_model import LogisticRegression\n",
    "from sklearn.metrics import classification_report\n",
    "from sklearn.pipeline import Pipeline"
   ]
  },
  {
   "cell_type": "code",
   "execution_count": 13,
   "metadata": {
    "ExecuteTime": {
     "end_time": "2022-11-13T14:42:57.376338Z",
     "start_time": "2022-11-13T14:42:57.362202Z"
    }
   },
   "outputs": [],
   "source": [
    "df = pd.read_csv(\"carros.csv\", sep=\";\")\n",
    "\n",
    "feat_import = ['Peso', 'TipoMotor', 'Cilindros', 'HP', 'Tempo', 'Consumo']\n",
    "df = df[feat_import]"
   ]
  },
  {
   "cell_type": "code",
   "execution_count": 14,
   "metadata": {
    "ExecuteTime": {
     "end_time": "2022-11-13T14:42:59.182746Z",
     "start_time": "2022-11-13T14:42:59.169767Z"
    }
   },
   "outputs": [],
   "source": [
    "lb = [0, 1, 2]\n",
    "df.drop(columns='Consumo')\n",
    "df['Consumo']= pd.qcut(df['Consumo'], q=3, labels=lb)"
   ]
  },
  {
   "cell_type": "code",
   "execution_count": 15,
   "metadata": {
    "ExecuteTime": {
     "end_time": "2022-11-13T14:43:01.519716Z",
     "start_time": "2022-11-13T14:43:01.506380Z"
    }
   },
   "outputs": [],
   "source": [
    "X = df.drop(columns = 'Consumo')\n",
    "y = df['Consumo']\n",
    "\n",
    "X_train, X_test, y_train, y_test = train_test_split(X, y,\n",
    "                                                    test_size = 0.25,\n",
    "                                                    random_state = 42)"
   ]
  },
  {
   "cell_type": "code",
   "execution_count": 16,
   "metadata": {
    "ExecuteTime": {
     "end_time": "2022-11-13T14:43:06.228805Z",
     "start_time": "2022-11-13T14:43:06.217806Z"
    }
   },
   "outputs": [
    {
     "data": {
      "text/html": [
       "<div>\n",
       "<style scoped>\n",
       "    .dataframe tbody tr th:only-of-type {\n",
       "        vertical-align: middle;\n",
       "    }\n",
       "\n",
       "    .dataframe tbody tr th {\n",
       "        vertical-align: top;\n",
       "    }\n",
       "\n",
       "    .dataframe thead th {\n",
       "        text-align: right;\n",
       "    }\n",
       "</style>\n",
       "<table border=\"1\" class=\"dataframe\">\n",
       "  <thead>\n",
       "    <tr style=\"text-align: right;\">\n",
       "      <th></th>\n",
       "      <th>Peso</th>\n",
       "      <th>TipoMotor</th>\n",
       "      <th>Cilindros</th>\n",
       "      <th>HP</th>\n",
       "      <th>Tempo</th>\n",
       "    </tr>\n",
       "  </thead>\n",
       "  <tbody>\n",
       "    <tr>\n",
       "      <th>12</th>\n",
       "      <td>373</td>\n",
       "      <td>0</td>\n",
       "      <td>8</td>\n",
       "      <td>180</td>\n",
       "      <td>176</td>\n",
       "    </tr>\n",
       "    <tr>\n",
       "      <th>0</th>\n",
       "      <td>262</td>\n",
       "      <td>0</td>\n",
       "      <td>6</td>\n",
       "      <td>110</td>\n",
       "      <td>1646</td>\n",
       "    </tr>\n",
       "    <tr>\n",
       "      <th>4</th>\n",
       "      <td>344</td>\n",
       "      <td>0</td>\n",
       "      <td>8</td>\n",
       "      <td>175</td>\n",
       "      <td>1702</td>\n",
       "    </tr>\n",
       "    <tr>\n",
       "      <th>16</th>\n",
       "      <td>5345</td>\n",
       "      <td>0</td>\n",
       "      <td>8</td>\n",
       "      <td>230</td>\n",
       "      <td>1742</td>\n",
       "    </tr>\n",
       "    <tr>\n",
       "      <th>5</th>\n",
       "      <td>346</td>\n",
       "      <td>1</td>\n",
       "      <td>6</td>\n",
       "      <td>105</td>\n",
       "      <td>2022</td>\n",
       "    </tr>\n",
       "    <tr>\n",
       "      <th>13</th>\n",
       "      <td>378</td>\n",
       "      <td>0</td>\n",
       "      <td>8</td>\n",
       "      <td>180</td>\n",
       "      <td>18</td>\n",
       "    </tr>\n",
       "    <tr>\n",
       "      <th>11</th>\n",
       "      <td>407</td>\n",
       "      <td>0</td>\n",
       "      <td>8</td>\n",
       "      <td>180</td>\n",
       "      <td>174</td>\n",
       "    </tr>\n",
       "    <tr>\n",
       "      <th>23</th>\n",
       "      <td>384</td>\n",
       "      <td>0</td>\n",
       "      <td>8</td>\n",
       "      <td>245</td>\n",
       "      <td>1541</td>\n",
       "    </tr>\n",
       "    <tr>\n",
       "      <th>1</th>\n",
       "      <td>2875</td>\n",
       "      <td>0</td>\n",
       "      <td>6</td>\n",
       "      <td>110</td>\n",
       "      <td>1702</td>\n",
       "    </tr>\n",
       "    <tr>\n",
       "      <th>2</th>\n",
       "      <td>232</td>\n",
       "      <td>1</td>\n",
       "      <td>4</td>\n",
       "      <td>93</td>\n",
       "      <td>1861</td>\n",
       "    </tr>\n",
       "    <tr>\n",
       "      <th>26</th>\n",
       "      <td>214</td>\n",
       "      <td>0</td>\n",
       "      <td>4</td>\n",
       "      <td>91</td>\n",
       "      <td>167</td>\n",
       "    </tr>\n",
       "    <tr>\n",
       "      <th>3</th>\n",
       "      <td>3215</td>\n",
       "      <td>1</td>\n",
       "      <td>6</td>\n",
       "      <td>110</td>\n",
       "      <td>1944</td>\n",
       "    </tr>\n",
       "    <tr>\n",
       "      <th>21</th>\n",
       "      <td>352</td>\n",
       "      <td>0</td>\n",
       "      <td>8</td>\n",
       "      <td>150</td>\n",
       "      <td>1687</td>\n",
       "    </tr>\n",
       "    <tr>\n",
       "      <th>27</th>\n",
       "      <td>1513</td>\n",
       "      <td>1</td>\n",
       "      <td>4</td>\n",
       "      <td>113</td>\n",
       "      <td>169</td>\n",
       "    </tr>\n",
       "    <tr>\n",
       "      <th>22</th>\n",
       "      <td>3435</td>\n",
       "      <td>0</td>\n",
       "      <td>8</td>\n",
       "      <td>150</td>\n",
       "      <td>173</td>\n",
       "    </tr>\n",
       "    <tr>\n",
       "      <th>18</th>\n",
       "      <td>1615</td>\n",
       "      <td>1</td>\n",
       "      <td>4</td>\n",
       "      <td>52</td>\n",
       "      <td>1852</td>\n",
       "    </tr>\n",
       "    <tr>\n",
       "      <th>31</th>\n",
       "      <td>278</td>\n",
       "      <td>1</td>\n",
       "      <td>4</td>\n",
       "      <td>109</td>\n",
       "      <td>186</td>\n",
       "    </tr>\n",
       "    <tr>\n",
       "      <th>20</th>\n",
       "      <td>2465</td>\n",
       "      <td>1</td>\n",
       "      <td>4</td>\n",
       "      <td>97</td>\n",
       "      <td>2001</td>\n",
       "    </tr>\n",
       "    <tr>\n",
       "      <th>7</th>\n",
       "      <td>319</td>\n",
       "      <td>1</td>\n",
       "      <td>4</td>\n",
       "      <td>62</td>\n",
       "      <td>20</td>\n",
       "    </tr>\n",
       "    <tr>\n",
       "      <th>10</th>\n",
       "      <td>344</td>\n",
       "      <td>1</td>\n",
       "      <td>6</td>\n",
       "      <td>123</td>\n",
       "      <td>189</td>\n",
       "    </tr>\n",
       "    <tr>\n",
       "      <th>14</th>\n",
       "      <td>525</td>\n",
       "      <td>0</td>\n",
       "      <td>8</td>\n",
       "      <td>205</td>\n",
       "      <td>1798</td>\n",
       "    </tr>\n",
       "    <tr>\n",
       "      <th>28</th>\n",
       "      <td>317</td>\n",
       "      <td>0</td>\n",
       "      <td>8</td>\n",
       "      <td>264</td>\n",
       "      <td>145</td>\n",
       "    </tr>\n",
       "    <tr>\n",
       "      <th>19</th>\n",
       "      <td>1835</td>\n",
       "      <td>1</td>\n",
       "      <td>4</td>\n",
       "      <td>65</td>\n",
       "      <td>199</td>\n",
       "    </tr>\n",
       "    <tr>\n",
       "      <th>6</th>\n",
       "      <td>357</td>\n",
       "      <td>0</td>\n",
       "      <td>8</td>\n",
       "      <td>245</td>\n",
       "      <td>1584</td>\n",
       "    </tr>\n",
       "  </tbody>\n",
       "</table>\n",
       "</div>"
      ],
      "text/plain": [
       "    Peso  TipoMotor  Cilindros   HP  Tempo\n",
       "12   373          0          8  180    176\n",
       "0    262          0          6  110   1646\n",
       "4    344          0          8  175   1702\n",
       "16  5345          0          8  230   1742\n",
       "5    346          1          6  105   2022\n",
       "13   378          0          8  180     18\n",
       "11   407          0          8  180    174\n",
       "23   384          0          8  245   1541\n",
       "1   2875          0          6  110   1702\n",
       "2    232          1          4   93   1861\n",
       "26   214          0          4   91    167\n",
       "3   3215          1          6  110   1944\n",
       "21   352          0          8  150   1687\n",
       "27  1513          1          4  113    169\n",
       "22  3435          0          8  150    173\n",
       "18  1615          1          4   52   1852\n",
       "31   278          1          4  109    186\n",
       "20  2465          1          4   97   2001\n",
       "7    319          1          4   62     20\n",
       "10   344          1          6  123    189\n",
       "14   525          0          8  205   1798\n",
       "28   317          0          8  264    145\n",
       "19  1835          1          4   65    199\n",
       "6    357          0          8  245   1584"
      ]
     },
     "execution_count": 16,
     "metadata": {},
     "output_type": "execute_result"
    }
   ],
   "source": [
    "X_train"
   ]
  },
  {
   "cell_type": "code",
   "execution_count": 12,
   "metadata": {
    "ExecuteTime": {
     "end_time": "2022-11-13T13:08:09.903844Z",
     "start_time": "2022-11-13T13:08:09.155769Z"
    }
   },
   "outputs": [
    {
     "name": "stderr",
     "output_type": "stream",
     "text": [
      "2022/11/13 10:08:09 INFO mlflow.tracking.fluent: Experiment with name 'Classificação de Consumo de combustível' does not exist. Creating a new experiment.\n"
     ]
    }
   ],
   "source": [
    "db_uri =  \"sqlite:///mlrunsdb.db\"\n",
    "mlflow.set_tracking_uri(db_uri)\n",
    "\n",
    "tags = {\n",
    "    \"Módulo\": \"Modelos Produtivos\",\n",
    "    \"Nomes\": ['Leonardo Guelfi', 'Marcelo Yonei'],\n",
    "    \"Turma\": 815,\n",
    "    \"Projeto\": \"Carros\"\n",
    "}\n",
    "\n",
    "mlflow.set_experiment(experiment_name=\"Classificação de Consumo de combustível\")\n",
    "mlflow.set_experiment_tags(tags)"
   ]
  },
  {
   "cell_type": "code",
   "execution_count": 22,
   "metadata": {
    "ExecuteTime": {
     "end_time": "2022-11-13T13:19:33.788953Z",
     "start_time": "2022-11-13T13:19:33.777955Z"
    }
   },
   "outputs": [],
   "source": [
    "def get_metrics(y_test:list, y_pred:list) -> list:\n",
    "    ac = accuracy_score(y_test, y_pred)\n",
    "    pr = precision_score(y_test, y_pred, average='weighted')\n",
    "    rc = recall_score(y_test, y_pred, average='weighted')\n",
    "    f1 = f1_score(y_test, y_pred, average='weighted')\n",
    "    return [ac, pr, rc, f1]"
   ]
  },
  {
   "cell_type": "code",
   "execution_count": 23,
   "metadata": {
    "ExecuteTime": {
     "end_time": "2022-11-13T13:19:45.404520Z",
     "start_time": "2022-11-13T13:19:41.929245Z"
    }
   },
   "outputs": [],
   "source": [
    "with mlflow.start_run(\n",
    "    run_name='API',\n",
    "    description='Projeto Carros com logit',\n",
    ") as model_run:\n",
    "\n",
    "\n",
    "    model = Pipeline([('scaler',StandardScaler()),('logit', LogisticRegression(C=0.5, penalty = 'l2'))])\n",
    "    model.fit(X_train, y_train)\n",
    "\n",
    "    y_pred = model.predict(X_test)\n",
    "    \n",
    "    ac, pr, rc, f1 = get_metrics(y_test, y_pred)\n",
    "\n",
    "    params = {\n",
    "            \"c\":0.5,\n",
    "            \"penalty\":\"l2\",\n",
    "            \"features\":len(X_train.columns),\n",
    "            \"size_train_dataset\": len(X_train),\n",
    "            \"size_test_dataset\": len(X_test)}\n",
    "\n",
    "    metrics = {\n",
    "        \"acuracia\":ac,\n",
    "        \"precision\":pr,\n",
    "        \"recall\":rc,\n",
    "        \"f1\":f1}\n",
    "\n",
    "    mlflow.log_params(params=params)\n",
    "    mlflow.log_metrics(metrics=metrics)\n",
    "\n",
    "    mlflow.sklearn.log_model(model, \"model\")"
   ]
  },
  {
   "cell_type": "markdown",
   "metadata": {},
   "source": [
    "mlflow server --backend-store-uri sqlite:///mlrunsdb.db --default-artifact-root ./mlflowruns --host 0.0.0.0 --port 5000"
   ]
  },
  {
   "cell_type": "code",
   "execution_count": 24,
   "metadata": {
    "ExecuteTime": {
     "end_time": "2022-11-13T13:20:28.249834Z",
     "start_time": "2022-11-13T13:20:28.241841Z"
    }
   },
   "outputs": [
    {
     "data": {
      "text/plain": [
       "['logit_model_v1.pk1']"
      ]
     },
     "execution_count": 24,
     "metadata": {},
     "output_type": "execute_result"
    }
   ],
   "source": [
    "import joblib\n",
    "\n",
    "file_name = \"logit_model_v1.pk1\"\n",
    "\n",
    "joblib.dump(model, file_name)"
   ]
  },
  {
   "cell_type": "code",
   "execution_count": 25,
   "metadata": {
    "ExecuteTime": {
     "end_time": "2022-11-13T13:34:03.792248Z",
     "start_time": "2022-11-13T13:34:01.593303Z"
    }
   },
   "outputs": [
    {
     "data": {
      "text/plain": [
       "array([0, 0, 0, 2, 2, 1, 0, 2], dtype=int64)"
      ]
     },
     "execution_count": 25,
     "metadata": {},
     "output_type": "execute_result"
    }
   ],
   "source": [
    "mlflow.set_tracking_uri(uri='http://localhost:5000/')\n",
    "\n",
    "PATH = 'models:/carros_logit/Production'\n",
    "\n",
    "loaded_model = mlflow.sklearn.load_model(PATH)\n",
    "\n",
    "loaded_model.predict(X_test)"
   ]
  },
  {
   "cell_type": "code",
   "execution_count": 26,
   "metadata": {
    "ExecuteTime": {
     "end_time": "2022-11-13T13:35:29.409755Z",
     "start_time": "2022-11-13T13:35:29.398721Z"
    }
   },
   "outputs": [
    {
     "data": {
      "text/plain": [
       "0.75"
      ]
     },
     "execution_count": 26,
     "metadata": {},
     "output_type": "execute_result"
    }
   ],
   "source": [
    "loaded_model.score(X_test,y_test)"
   ]
  },
  {
   "cell_type": "code",
   "execution_count": null,
   "metadata": {
    "ExecuteTime": {
     "end_time": "2022-11-13T00:41:44.988401Z",
     "start_time": "2022-11-13T00:41:44.972478Z"
    }
   },
   "outputs": [],
   "source": []
  }
 ],
 "metadata": {
  "kernelspec": {
   "display_name": "Python 3 (ipykernel)",
   "language": "python",
   "name": "python3"
  },
  "language_info": {
   "codemirror_mode": {
    "name": "ipython",
    "version": 3
   },
   "file_extension": ".py",
   "mimetype": "text/x-python",
   "name": "python",
   "nbconvert_exporter": "python",
   "pygments_lexer": "ipython3",
   "version": "3.9.7"
  }
 },
 "nbformat": 4,
 "nbformat_minor": 4
}
